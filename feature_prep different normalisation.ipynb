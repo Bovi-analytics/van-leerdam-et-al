{
 "cells": [
  {
   "attachments": {},
   "cell_type": "markdown",
   "metadata": {},
   "source": [
    "Feature preperation for the models including train/val/test split, missing value imputation and normalization"
   ]
  },
  {
   "cell_type": "code",
   "execution_count": null,
   "metadata": {},
   "outputs": [],
   "source": [
    "import pandas as pd\n",
    "import numpy as np\n",
    "panda_set_compleet = pd.read_csv(\"Data/dataset_with_0.csv\")\n",
    "\n",
    "#drop day 0 (contains many missing values)\n",
    "panda_set_compleet = panda_set_compleet[panda_set_compleet.TransitionDaysInMilk !=0]\n",
    "\n",
    "#shuffle cows\n",
    "np.random.seed(89)\n",
    "grouped = panda_set_compleet.groupby(['AnimalEartag', 'PaperRecordedCalvingDate'])\n",
    "a=np.arange(grouped.ngroups)\n",
    "np.random.shuffle(a)\n",
    "panda_set_shuffeld = panda_set_compleet[grouped.ngroup().isin(a[:])]\n"
   ]
  },
  {
   "attachments": {},
   "cell_type": "markdown",
   "metadata": {},
   "source": [
    "We cannot use random way of splitting dataset into train and test as the sequence of events is important for time series.\n",
    "#So let us take first 60% values = 365 cows of 609 for train and the remaining 40% for testing and validation 122 cows each \n",
    "# split into train and test sets"
   ]
  },
  {
   "cell_type": "code",
   "execution_count": null,
   "metadata": {},
   "outputs": [],
   "source": [
    "#define set size\n",
    "train_size = 365*21\n",
    "test_size = 122*21+365*21\n",
    "validation_size = 122*21\n",
    "#split train, val and test\n",
    "train_set, test_set, validation_set = panda_set_shuffeld.iloc[0:train_size,:], panda_set_shuffeld.iloc[train_size:test_size,:], panda_set_shuffeld.iloc[test_size:len(panda_set_shuffeld),:]"
   ]
  },
  {
   "attachments": {},
   "cell_type": "markdown",
   "metadata": {},
   "source": [
    "Normalization"
   ]
  },
  {
   "cell_type": "code",
   "execution_count": null,
   "metadata": {},
   "outputs": [],
   "source": [
    "columns_to_select = [\"TransitionDaysInMilk\", \"WalkingTimeMinutesPerDay\", \"EatingBoutLengthMinutesPerBout\", \"EatingInterBoutLengthMinutes\", \"EatingNumberOfBoutsPerDay\", \"EatingTimeMinutesPerDay\", \"InactiveBoutLengthMinutesPerDay\", \"InactiveBoutsPerDay\", \"InactiveInterboutLengthMinutesPerDay\", \"InactiveTimeMinutesPerDay\", \"LegActivityStepsPerDay\", \"LyingBoutLengthMinutesPerDay\",\"LyingBoutsPerDay\", \"LyingTimeMinutesPerDay\", \"RuminationBoutLengthMinutesPerBout\", \"RuminationInterBoutLengthMinutes\", \"RuminationNumberOfBoutsPerDay\",\"RuminationTimeMinutesPerDay\", \"StandingTimeMinutesPerDay\", \"StandupsPerDay\"]\n",
    "\n",
    "#define normalisation function\n",
    "def norm_to_zero_one(df):\n",
    "     return (df - df.min()) * 1.0 / (df.max() - df.min())\n",
    "\n",
    "  \n",
    "transdays = train_set[\"TransitionDaysInMilk\"]\n",
    "train_set.loc[:, columns_to_select]  = train_set[columns_to_select].apply(norm_to_zero_one)\n",
    "\n",
    "train_set.loc[:,\"TransitionDaysInMilk\"] = transdays\n",
    "\n",
    "transdays_test = test_set[\"TransitionDaysInMilk\"]\n",
    "test_set.loc[:, columns_to_select] = test_set[columns_to_select].apply(norm_to_zero_one)\n",
    "test_set.loc[:,\"TransitionDaysInMilk\"] = transdays_test\n",
    "\n",
    "transdays_validatie = validation_set[\"TransitionDaysInMilk\"]\n",
    "validation_set.loc[:,columns_to_select] = validation_set[columns_to_select].apply(norm_to_zero_one)\n",
    "validation_set.loc[:,\"TransitionDaysInMilk\"] = transdays_validatie\n"
   ]
  },
  {
   "attachments": {},
   "cell_type": "markdown",
   "metadata": {},
   "source": [
    "Missing value imputation, imputing the mean value for each behaviour for each day before calving"
   ]
  },
  {
   "cell_type": "code",
   "execution_count": null,
   "metadata": {},
   "outputs": [],
   "source": [
    "from sklearn.base import BaseEstimator, TransformerMixin\n",
    "feature_names =[\"WalkingTimeMinutesPerDay\", \"EatingBoutLengthMinutesPerBout\", \"EatingInterBoutLengthMinutes\", \"EatingNumberOfBoutsPerDay\", \"EatingTimeMinutesPerDay\", \"InactiveBoutLengthMinutesPerDay\", \"InactiveBoutsPerDay\", \"InactiveInterboutLengthMinutesPerDay\", \"InactiveTimeMinutesPerDay\", \"LegActivityStepsPerDay\", \"LyingBoutLengthMinutesPerDay\",\"LyingBoutsPerDay\", \"LyingTimeMinutesPerDay\", \"RuminationBoutLengthMinutesPerBout\", \"RuminationInterBoutLengthMinutes\", \"RuminationNumberOfBoutsPerDay\",\"RuminationTimeMinutesPerDay\", \"StandingTimeMinutesPerDay\", \"StandupsPerDay\"]\n",
    "\n",
    "class WithinGroupMeanImputer(BaseEstimator, TransformerMixin):\n",
    "    def __init__(self, group_var):\n",
    "        self.group_var = group_var\n",
    "    \n",
    "    def fit(self, X, y=None):\n",
    "        return self\n",
    "        \n",
    "    def transform(self, X):\n",
    "        # the copy leaves the original dataframe intact\n",
    "        X_ = X.copy()\n",
    "        for col in X_.columns:\n",
    "            if X_[col].dtypes == 'float64':\n",
    "                X_.loc[(X[col].isna()) & X_[self.group_var].notna(), col] = X_[self.group_var].map(X_.groupby(self.group_var)[col].mean())\n",
    "                X_[col] = X_[col].fillna(X_[col].mean())\n",
    "        return X_\n",
    "      \n",
    "imp = WithinGroupMeanImputer(group_var='TransitionDaysInMilk')\n",
    "\n",
    "imputed_train_set = imp.fit(train_set[feature_names])\n",
    "\n",
    "imputed_train_set = imp.transform(train_set[[\"WalkingTimeMinutesPerDay\", \"EatingBoutLengthMinutesPerBout\", \"EatingInterBoutLengthMinutes\", \"EatingNumberOfBoutsPerDay\", \"EatingTimeMinutesPerDay\", \"InactiveBoutLengthMinutesPerDay\", \"InactiveBoutsPerDay\", \"InactiveInterboutLengthMinutesPerDay\", \"InactiveTimeMinutesPerDay\", \"LegActivityStepsPerDay\", \"LyingBoutLengthMinutesPerDay\",\"LyingBoutsPerDay\", \"LyingTimeMinutesPerDay\", \"RuminationBoutLengthMinutesPerBout\", \"RuminationInterBoutLengthMinutes\", \"RuminationNumberOfBoutsPerDay\",\"RuminationTimeMinutesPerDay\", \"StandingTimeMinutesPerDay\", \"StandupsPerDay\", 'TransitionDaysInMilk']])\n",
    "Imputed_train_set = imputed_train_set.join(train_set[['AnimalEartag', 'PaperRecordedCalvingDate', 'Parity', 'CalciumDaysInMilk', 'Cut_Off', 'CalvingSeason', 'Calciumcluster', 'FirstLocomotionScore', 'FirstBCSScore']])\n"
   ]
  },
  {
   "cell_type": "code",
   "execution_count": null,
   "metadata": {},
   "outputs": [],
   "source": [
    "import sklearn\n",
    "#save data frames\n",
    "\n",
    "imputed_validation_set = imp.transform(validation_set[[\"WalkingTimeMinutesPerDay\", \"EatingBoutLengthMinutesPerBout\", \"EatingInterBoutLengthMinutes\", \"EatingNumberOfBoutsPerDay\", \"EatingTimeMinutesPerDay\", \"InactiveBoutLengthMinutesPerDay\", \"InactiveBoutsPerDay\", \"InactiveInterboutLengthMinutesPerDay\", \"InactiveTimeMinutesPerDay\", \"LegActivityStepsPerDay\", \"LyingBoutLengthMinutesPerDay\",\"LyingBoutsPerDay\", \"LyingTimeMinutesPerDay\", \"RuminationBoutLengthMinutesPerBout\", \"RuminationInterBoutLengthMinutes\", \"RuminationNumberOfBoutsPerDay\",\"RuminationTimeMinutesPerDay\", \"StandingTimeMinutesPerDay\", \"StandupsPerDay\", 'TransitionDaysInMilk']])\n",
    "Imputed_validation_set = imputed_validation_set.join(validation_set[['AnimalEartag', 'PaperRecordedCalvingDate', 'Parity', 'CalciumDaysInMilk', 'Cut_Off', 'CalvingSeason', 'Calciumcluster', 'FirstLocomotionScore', 'FirstBCSScore']])\n",
    "imputed_test_set = imp.transform(test_set[[\"WalkingTimeMinutesPerDay\", \"EatingBoutLengthMinutesPerBout\", \"EatingInterBoutLengthMinutes\", \"EatingNumberOfBoutsPerDay\", \"EatingTimeMinutesPerDay\", \"InactiveBoutLengthMinutesPerDay\", \"InactiveBoutsPerDay\", \"InactiveInterboutLengthMinutesPerDay\", \"InactiveTimeMinutesPerDay\", \"LegActivityStepsPerDay\", \"LyingBoutLengthMinutesPerDay\",\"LyingBoutsPerDay\", \"LyingTimeMinutesPerDay\", \"RuminationBoutLengthMinutesPerBout\", \"RuminationInterBoutLengthMinutes\", \"RuminationNumberOfBoutsPerDay\",\"RuminationTimeMinutesPerDay\", \"StandingTimeMinutesPerDay\", \"StandupsPerDay\", 'TransitionDaysInMilk']])\n",
    "Imputed_test_set = imputed_test_set.join(test_set[['AnimalEartag', 'PaperRecordedCalvingDate', 'Parity', 'CalciumDaysInMilk', 'Cut_Off', 'CalvingSeason', 'Calciumcluster', 'FirstLocomotionScore', 'FirstBCSScore']])\n",
    "\n",
    "Imputed_validation_set.to_csv(\"Data/Imputed_validation_set.csv\")\n",
    "Imputed_test_set.to_csv(\"Data/Imputed_test_set.csv\")\n",
    "Imputed_train_set.to_csv(\"Data/Imputed_train_set.csv\")"
   ]
  },
  {
   "attachments": {},
   "cell_type": "markdown",
   "metadata": {},
   "source": [
    "Upsampling of the train set "
   ]
  },
  {
   "cell_type": "code",
   "execution_count": null,
   "metadata": {},
   "outputs": [],
   "source": [
    "unique_train = train_set[['AnimalEartag', 'PaperRecordedCalvingDate', 'Calciumcluster', 'CalciumValue']].groupby(['AnimalEartag', 'PaperRecordedCalvingDate']).first()\n",
    "count_class_0, count_class_1 = unique_train['Calciumcluster'].value_counts()\n",
    "#devide per class\n",
    "cluster_0 = unique_train[unique_train.Calciumcluster==0]\n",
    "cluster_1 = unique_train[unique_train.Calciumcluster==1]\n",
    "#upsampling\n",
    "cluster_1_over = cluster_1.sample(count_class_0, replace=True)\n",
    "upsampled_set = pd.concat([cluster_1_over, cluster_0], axis=0)\n",
    "#random shuffeling to avoid bias due to chronological order\n",
    "upsampled_set = upsampled_set.sample(frac=1).reset_index(drop=False)\n",
    "samplenumber = [*range(0,534)]\n",
    "upsampled_set['SampleNumber'] = samplenumber\n",
    "#re-adding features \n",
    "Upsampled_train_set = pd.merge(upsampled_set, panda_set_compleet, on = ['AnimalEartag', 'PaperRecordedCalvingDate', 'Calciumcluster', 'CalciumValue'], how = 'left')\n",
    "\n",
    "# Imputed_train_set.to_csv(\"Data/Imputed_train_set.csv\")"
   ]
  },
  {
   "cell_type": "code",
   "execution_count": null,
   "metadata": {},
   "outputs": [],
   "source": [
    "#normalisation \n",
    "transdays = Upsampled_train_set[\"TransitionDaysInMilk\"]\n",
    "Upsampled_train_set.loc[:,columns_to_select] = Upsampled_train_set[columns_to_select].apply(norm_to_zero_one)\n",
    "Upsampled_train_set[\"TransitionDaysInMilk\"] = transdays\n",
    "\n",
    "Upsampled_train_set.to_csv(\"Data/Upsampled_train_set.csv\")"
   ]
  },
  {
   "cell_type": "code",
   "execution_count": null,
   "metadata": {},
   "outputs": [],
   "source": [
    "#missing value imputation\n",
    "from sklearn.base import BaseEstimator, TransformerMixin\n",
    "feature_names =[\"WalkingTimeMinutesPerDay\", \"EatingBoutLengthMinutesPerBout\", \"EatingInterBoutLengthMinutes\", \"EatingNumberOfBoutsPerDay\", \"EatingTimeMinutesPerDay\", \"InactiveBoutLengthMinutesPerDay\", \"InactiveBoutsPerDay\", \"InactiveInterboutLengthMinutesPerDay\", \"InactiveTimeMinutesPerDay\", \"LegActivityStepsPerDay\", \"LyingBoutLengthMinutesPerDay\",\"LyingBoutsPerDay\", \"LyingTimeMinutesPerDay\", \"RuminationBoutLengthMinutesPerBout\", \"RuminationInterBoutLengthMinutes\", \"RuminationNumberOfBoutsPerDay\",\"RuminationTimeMinutesPerDay\", \"StandingTimeMinutesPerDay\", \"StandupsPerDay\"]\n",
    "class WithinGroupMeanImputer(BaseEstimator, TransformerMixin):\n",
    "    def __init__(self, group_var):\n",
    "        self.group_var = group_var\n",
    "    \n",
    "    def fit(self, X, y=None):\n",
    "        return self\n",
    "        \n",
    "    def transform(self, X):\n",
    "        # the copy leaves the original dataframe intact\n",
    "        X_ = X.copy()\n",
    "        for col in X_.columns:\n",
    "            if X_[col].dtypes == 'float64':\n",
    "                X_.loc[(X[col].isna()) & X_[self.group_var].notna(), col] = X_[self.group_var].map(X_.groupby(self.group_var)[col].mean())\n",
    "                X_[col] = X_[col].fillna(X_[col].mean())\n",
    "        return X_\n",
    " \n",
    "\n",
    "imp = WithinGroupMeanImputer(group_var='TransitionDaysInMilk')\n",
    "parity =Upsampled_train_set['Parity']\n",
    "imputed_train_set_up = imp.fit(Upsampled_train_set[feature_names])\n",
    "\n",
    "imputed_train_set_up = imp.transform(Upsampled_train_set[[\"WalkingTimeMinutesPerDay\", \"EatingBoutLengthMinutesPerBout\", \"EatingInterBoutLengthMinutes\", \"EatingNumberOfBoutsPerDay\", \"EatingTimeMinutesPerDay\", \"InactiveBoutLengthMinutesPerDay\", \"InactiveBoutsPerDay\", \"InactiveInterboutLengthMinutesPerDay\", \"InactiveTimeMinutesPerDay\", \"LegActivityStepsPerDay\", \"LyingBoutLengthMinutesPerDay\",\"LyingBoutsPerDay\", \"LyingTimeMinutesPerDay\", \"RuminationBoutLengthMinutesPerBout\", \"RuminationInterBoutLengthMinutes\", \"RuminationNumberOfBoutsPerDay\",\"RuminationTimeMinutesPerDay\", \"StandingTimeMinutesPerDay\", \"StandupsPerDay\", 'TransitionDaysInMilk']])\n",
    "imputed_train_set_up = imputed_train_set_up.join(Upsampled_train_set[['AnimalEartag', 'PaperRecordedCalvingDate', 'SampleNumber', 'CalciumDaysInMilk', 'Cut_Off', 'CalvingSeason', 'Calciumcluster', 'FirstLocomotionScore', 'FirstBCSScore']])\n",
    "imputed_train_set_up['Parity'] = parity"
   ]
  },
  {
   "cell_type": "code",
   "execution_count": null,
   "metadata": {},
   "outputs": [],
   "source": [
    "#save upsampled train set \n",
    "imputed_train_set_up.to_csv(\"Data/imputed_train_set_up.csv\")"
   ]
  }
 ],
 "metadata": {
  "kernelspec": {
   "display_name": "Python 3",
   "language": "python",
   "name": "python3"
  },
  "language_info": {
   "codemirror_mode": {
    "name": "ipython",
    "version": 3
   },
   "file_extension": ".py",
   "mimetype": "text/x-python",
   "name": "python",
   "nbconvert_exporter": "python",
   "pygments_lexer": "ipython3",
   "version": "3.10.11"
  },
  "orig_nbformat": 4
 },
 "nbformat": 4,
 "nbformat_minor": 2
}
